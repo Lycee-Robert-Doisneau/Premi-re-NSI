{
 "cells": [
  {
   "cell_type": "markdown",
   "metadata": {},
   "source": [
    "## <div align = right> 2020-2021 </div>\n",
    "### <center> Premiere NSI - Les Listes </center>\n",
    "### <center> Activité 2: Applications et mise en œuvre de listes</center>\n",
    "---\n",
    "### 1. Itérations\n",
    "Nous avons vu que la structure itérative (`for ... in ... :`) permettait d'énumérer les éléments d'un ensemble. De fait, une liste étant un ensemble d'éléments indexés, l'itération sur une liste apparait comme une évidence. \n",
    "\n",
    "- **Exécuter les deux scripts ci-dessous et analyser les variables accessibles à l'affichage:**"
   ]
  },
  {
   "cell_type": "code",
   "execution_count": null,
   "metadata": {},
   "outputs": [],
   "source": [
    "ma_liste = [42,84,'orwell']\n",
    "print(ma_liste)"
   ]
  },
  {
   "cell_type": "code",
   "execution_count": null,
   "metadata": {},
   "outputs": [],
   "source": [
    "ma_liste = [42,84,'orwell']\n",
    "for un_element in ma_liste:\n",
    "    print(ma_liste.index(un_element), un_element)"
   ]
  },
  {
   "cell_type": "code",
   "execution_count": null,
   "metadata": {
    "scrolled": true
   },
   "outputs": [],
   "source": [
    "ma_liste = [42,84,'orwell']\n",
    "for un_indice in range(len(ma_liste)):\n",
    "    print(un_indice, ma_liste[un_indice])"
   ]
  },
  {
   "cell_type": "markdown",
   "metadata": {},
   "source": [
    "- **Que renvoie `len(ma_liste)`?**"
   ]
  },
  {
   "cell_type": "code",
   "execution_count": null,
   "metadata": {},
   "outputs": [],
   "source": [
    " "
   ]
  },
  {
   "cell_type": "markdown",
   "metadata": {},
   "source": [
    "---\n",
    "### <center>  Exercices</center>\n",
    "#### 1.  A partir de la liste aléatoire générée, afficher une liste traitée contenant seulement les éléments inférieurs à 50."
   ]
  },
  {
   "cell_type": "code",
   "execution_count": null,
   "metadata": {
    "scrolled": true
   },
   "outputs": [],
   "source": [
    "from random import randint\n",
    "liste_alea = []\n",
    "\n",
    "for n in range(10):\n",
    "    liste_alea.append(randint(0,100))\n",
    "\n",
    "liste_traitee = []   \n",
    "# à compléter\n",
    "        \n",
    "print('liste aléatoire:',liste_alea)\n",
    "print('liste traitée:',liste_traitee)"
   ]
  },
  {
   "cell_type": "markdown",
   "metadata": {},
   "source": [
    "---\n",
    "#### 2.  Créer une fonction prenant un entier en argument et affichant une étoile en face des multiples de cet argument"
   ]
  },
  {
   "cell_type": "code",
   "execution_count": null,
   "metadata": {
    "scrolled": true
   },
   "outputs": [],
   "source": [
    "liste_entiers = []\n",
    "n = 0\n",
    "while len(liste_entiers) < 100:\n",
    "    liste_entiers.append(n)\n",
    "    n += 1\n",
    "def recherche_multiples(n):    \n",
    "    # à compléter\n",
    "\n",
    "recherche_multiples(3) "
   ]
  },
  {
   "cell_type": "markdown",
   "metadata": {},
   "source": [
    "---\n",
    "Il existe une instruction native permettant de détecter la présence d'un élément dans une liste en renvoyant une valeur booléenne `True / False`:"
   ]
  },
  {
   "cell_type": "code",
   "execution_count": 11,
   "metadata": {},
   "outputs": [
    {
     "name": "stdout",
     "output_type": "stream",
     "text": [
      "True\n",
      "False\n"
     ]
    }
   ],
   "source": [
    "ma_liste = [42,84,'orwell']\n",
    "print(84 in ma_liste)\n",
    "print(1984 in ma_liste)"
   ]
  },
  {
   "cell_type": "markdown",
   "metadata": {},
   "source": [
    "#### 3.  Sans l'utiliser,  réaliser une fonction prenant deux arguments (une liste et une valeur à détecter) qui renvoie un booléen similaire au fonctionnement décrit précédemment."
   ]
  },
  {
   "cell_type": "code",
   "execution_count": 12,
   "metadata": {},
   "outputs": [
    {
     "name": "stdout",
     "output_type": "stream",
     "text": [
      "True\n",
      "False\n"
     ]
    }
   ],
   "source": [
    "ma_liste = [42,84,'orwell']\n",
    "\n",
    "def recherche(liste, valeur):\n",
    "    # à compléter\n",
    "\n",
    "print(recherche(ma_liste,84))\n",
    "print(recherche(ma_liste,1984))"
   ]
  },
  {
   "cell_type": "markdown",
   "metadata": {},
   "source": [
    "---\n",
    "### <center>  Pour aller plus loin</center>\n"
   ]
  },
  {
   "cell_type": "markdown",
   "metadata": {},
   "source": [
    "#### 4. Sans utiliser les fonctions `min()` ou `max()`, réaliser ces fonctions à partir du script amorcé:"
   ]
  },
  {
   "cell_type": "code",
   "execution_count": 16,
   "metadata": {},
   "outputs": [
    {
     "name": "stdout",
     "output_type": "stream",
     "text": [
      "[75, 82, 25, 49, 43, 73, 62, 77, 23, 34]\n",
      "max: 82\n",
      "min: 23\n"
     ]
    }
   ],
   "source": [
    "from random import randint\n",
    "liste_alea = []\n",
    "while len(liste_alea) < 10:\n",
    "    liste_alea.insert(0,randint(0,100))\n",
    "print(liste_alea)\n",
    "\n",
    "def maximum(liste):\n",
    "    # à compléter\n",
    "\n",
    "def minimum(liste):\n",
    "    # à compléter\n",
    "\n",
    "print('max:',maximum(liste_alea))\n",
    "print('min:',minimum(liste_alea))"
   ]
  },
  {
   "cell_type": "markdown",
   "metadata": {},
   "source": [
    "#### 5. Sans utiliser la fonction `moy()`, réaliser une fonction prenant une liste d'entiers en argument et renvoyant la valeur moyenne. Votre fonction devra vérifier au préalable si la liste ne contient que des entiers de type `int`."
   ]
  },
  {
   "cell_type": "code",
   "execution_count": 21,
   "metadata": {},
   "outputs": [
    {
     "name": "stdout",
     "output_type": "stream",
     "text": [
      "<class 'str'>\n",
      "True\n"
     ]
    }
   ],
   "source": [
    "# rappel:\n",
    "print(type('hello world'))\n",
    "print(type('hello world') == str)"
   ]
  },
  {
   "cell_type": "code",
   "execution_count": 26,
   "metadata": {},
   "outputs": [
    {
     "name": "stdout",
     "output_type": "stream",
     "text": [
      "[58, 100, 1, 98, 8, 12, 69, 25, 5, 22]\n",
      "moy1: 39.8\n",
      "moy2: None\n"
     ]
    }
   ],
   "source": [
    "from random import randint\n",
    "liste_alea = []\n",
    "while len(liste_alea) < 10:\n",
    "    liste_alea.insert(0,randint(0,100))\n",
    "print(liste_alea)\n",
    "\n",
    "def moyenne(liste):\n",
    "    # à compléter\n",
    "    \n",
    "print('moy1:',moyenne(liste_alea))\n",
    "\n",
    "ma_liste = [42,84,'orwell']\n",
    "print('moy2:',moyenne(ma_liste))"
   ]
  },
  {
   "cell_type": "markdown",
   "metadata": {},
   "source": [
    "---\n",
    "### 2. Les tableaux\n",
    "Le type tableau n'existe pas en Python. En revanche lorsqu'il est nécessaire de s'approcher de ce fonctionnement, nous utilisons une capacité intéressante des listes: **être considérée comme un contenant de valeurs** et ... **être elle-même une valeur**. Nous allons du donc mettre en place des listes de listes et assimiler ces constructions à des tableaux.\n",
    "\n",
    "- **Essayer d'anticiper les résultats à afficher puis exécuter les deux scripts ci-dessous. Analyser les variables accessibles à l'affichage:**"
   ]
  },
  {
   "cell_type": "code",
   "execution_count": 27,
   "metadata": {},
   "outputs": [],
   "source": [
    "ligne_1 = [1,2,3]\n",
    "ligne_2 = [4,5,6]\n",
    "ligne_3 = [7,8,9]\n",
    "\n",
    "tableau = [ligne_1, ligne_2, ligne_3]"
   ]
  },
  {
   "cell_type": "code",
   "execution_count": 28,
   "metadata": {},
   "outputs": [
    {
     "name": "stdout",
     "output_type": "stream",
     "text": [
      "[[1, 2, 3], [4, 5, 6], [7, 8, 9]]\n"
     ]
    }
   ],
   "source": [
    "print(tableau)"
   ]
  },
  {
   "cell_type": "code",
   "execution_count": 29,
   "metadata": {},
   "outputs": [
    {
     "name": "stdout",
     "output_type": "stream",
     "text": [
      "[1, 2, 3]\n",
      "[4, 5, 6]\n",
      "[7, 8, 9]\n"
     ]
    }
   ],
   "source": [
    "for ligne in tableau:\n",
    "    print(ligne)"
   ]
  },
  {
   "cell_type": "code",
   "execution_count": 30,
   "metadata": {},
   "outputs": [
    {
     "name": "stdout",
     "output_type": "stream",
     "text": [
      "[7, 8, 9]\n"
     ]
    }
   ],
   "source": [
    "print(tableau[2])"
   ]
  },
  {
   "cell_type": "code",
   "execution_count": 32,
   "metadata": {
    "scrolled": false
   },
   "outputs": [
    {
     "name": "stdout",
     "output_type": "stream",
     "text": [
      "7\n"
     ]
    }
   ],
   "source": [
    "print(tableau[2][0])"
   ]
  },
  {
   "cell_type": "markdown",
   "metadata": {},
   "source": [
    "---\n",
    "### <center>  Exercices</center>\n",
    "#### 6.  Créer une fonction qui génère un tableau à deux dimensions à partir des valeurs placées en arguments. Le contenu par défaut d'une case sera un point `'.'`"
   ]
  },
  {
   "cell_type": "code",
   "execution_count": 34,
   "metadata": {},
   "outputs": [
    {
     "name": "stdout",
     "output_type": "stream",
     "text": [
      "['.', '.', '.', '.', '.', '.', '.']\n",
      "['.', '.', '.', '.', '.', '.', '.']\n",
      "['.', '.', '.', '.', '.', '.', '.']\n",
      "['.', '.', '.', '.', '.', '.', '.']\n"
     ]
    }
   ],
   "source": [
    "def creer_tab(ligne, colonne):\n",
    "    tableau = []\n",
    "    # à compléter\n",
    "    \n",
    "    \n",
    "    \n",
    "    \n",
    "    return tableau\n",
    "\n",
    "t = creer_tab(4,7)\n",
    "\n",
    "for ligne in t:\n",
    "    print(ligne)\n",
    "            "
   ]
  },
  {
   "cell_type": "markdown",
   "metadata": {},
   "source": [
    "---\n",
    "#### 7.  Créer une fonction qui prend un entier en argument et renvoie la ligne correspondante du tableau"
   ]
  },
  {
   "cell_type": "code",
   "execution_count": 37,
   "metadata": {},
   "outputs": [
    {
     "name": "stdout",
     "output_type": "stream",
     "text": [
      "[7, 8, 9]\n"
     ]
    }
   ],
   "source": [
    "ligne_1 = [1,2,3]\n",
    "ligne_2 = [4,5,6]\n",
    "ligne_3 = [7,8,9]\n",
    "\n",
    "tableau = [ligne_1, ligne_2, ligne_3]\n",
    "\n",
    "def extract_ligne(valeur):\n",
    "    # à compléter\n",
    "\n",
    "print(extract_ligne(2))"
   ]
  },
  {
   "cell_type": "markdown",
   "metadata": {},
   "source": [
    "---\n",
    "#### 8.  Créer une fonction qui prend un entier en argument et renvoie la colonne correspondante du tableau"
   ]
  },
  {
   "cell_type": "code",
   "execution_count": 38,
   "metadata": {
    "scrolled": true
   },
   "outputs": [
    {
     "name": "stdout",
     "output_type": "stream",
     "text": [
      "[3, 6, 9]\n"
     ]
    }
   ],
   "source": [
    "ligne_1 = [1,2,3]\n",
    "ligne_2 = [4,5,6]\n",
    "ligne_3 = [7,8,9]\n",
    "\n",
    "tableau = [ligne_1, ligne_2, ligne_3]\n",
    "\n",
    "def extract_colonne(valeur):\n",
    "    # à compléter\n",
    "\n",
    "print(extract_colonne(2))"
   ]
  },
  {
   "cell_type": "markdown",
   "metadata": {},
   "source": [
    "---\n",
    "#### 9.  Créer un script qui génère les tables de multiplications de 0 à 9 dans un tableau."
   ]
  },
  {
   "cell_type": "code",
   "execution_count": 52,
   "metadata": {
    "scrolled": true
   },
   "outputs": [
    {
     "name": "stdout",
     "output_type": "stream",
     "text": [
      "['00', '00', '00', '00', '00', '00', '00', '00', '00', '00']\n",
      "['00', '01', '02', '03', '04', '05', '06', '07', '08', '09']\n",
      "['00', '02', '04', '06', '08', '10', '12', '14', '16', '18']\n",
      "['00', '03', '06', '09', '12', '15', '18', '21', '24', '27']\n",
      "['00', '04', '08', '12', '16', '20', '24', '28', '32', '36']\n",
      "['00', '05', '10', '15', '20', '25', '30', '35', '40', '45']\n",
      "['00', '06', '12', '18', '24', '30', '36', '42', '48', '54']\n",
      "['00', '07', '14', '21', '28', '35', '42', '49', '56', '63']\n",
      "['00', '08', '16', '24', '32', '40', '48', '56', '64', '72']\n",
      "['00', '09', '18', '27', '36', '45', '54', '63', '72', '81']\n"
     ]
    }
   ],
   "source": [
    "tables = []\n",
    "# à compléter\n",
    "    \n",
    "for ligne in tables:\n",
    "    print(ligne)"
   ]
  },
  {
   "cell_type": "markdown",
   "metadata": {},
   "source": [
    "---\n",
    "### <center>  Pour aller plus loin</center>\n",
    "![grille bataille navale](http://wavrechain-thorez.etab.ac-lille.fr/files/2017/01/bataille-navale.jpg)\n",
    "#### 10.  Créer une fonction qui génère une grille de bataille navale : \n",
    "- Réaliser un tableau de 11 par 11.\n",
    "- Placer le caractère espace `' '` par défaut\n",
    "- Placer les nombres de 1 à 10 en tête de colonnes\n",
    "- Placer les lettres de A à J en tête de lignes"
   ]
  },
  {
   "cell_type": "code",
   "execution_count": 49,
   "metadata": {
    "scrolled": true
   },
   "outputs": [
    {
     "name": "stdout",
     "output_type": "stream",
     "text": [
      "[' ', '1', '2', '3', '4', '5', '6', '7', '8', '9', '10']\n",
      "['A', ' ', ' ', ' ', ' ', ' ', ' ', ' ', ' ', ' ', ' ']\n",
      "['B', ' ', ' ', ' ', ' ', ' ', ' ', ' ', ' ', ' ', ' ']\n",
      "['C', ' ', ' ', ' ', ' ', ' ', ' ', ' ', ' ', ' ', ' ']\n",
      "['D', ' ', ' ', ' ', ' ', ' ', ' ', ' ', ' ', ' ', ' ']\n",
      "['E', ' ', ' ', ' ', ' ', ' ', ' ', ' ', ' ', ' ', ' ']\n",
      "['F', ' ', ' ', ' ', ' ', ' ', ' ', ' ', ' ', ' ', ' ']\n",
      "['G', ' ', ' ', ' ', ' ', ' ', ' ', ' ', ' ', ' ', ' ']\n",
      "['H', ' ', ' ', ' ', ' ', ' ', ' ', ' ', ' ', ' ', ' ']\n",
      "['I', ' ', ' ', ' ', ' ', ' ', ' ', ' ', ' ', ' ', ' ']\n",
      "['J', ' ', ' ', ' ', ' ', ' ', ' ', ' ', ' ', ' ', ' ']\n"
     ]
    }
   ],
   "source": [
    "def afficher(grille):    \n",
    "    for l in grille:\n",
    "        print(l)\n",
    "\n",
    "def generer_grille():\n",
    "    # à compléter\n",
    "    \n",
    "    return grille\n",
    "\n",
    "g = generer_grille()\n",
    "afficher(g)"
   ]
  },
  {
   "cell_type": "markdown",
   "metadata": {},
   "source": [
    "---\n",
    "#### 11.  Créer une fonction prend les coordonnées d'une case et chaine de caracteres et place une croix dans la case correspondante de la grille  : \n",
    "- la fonction `extraire(coordonnees)` doit générer un couple d'entiers correspondant aux indices de ligne et de colonne\n",
    "- la fonction `modifier(grille)` place une croix `'X'` si celle-ci est vide."
   ]
  },
  {
   "cell_type": "code",
   "execution_count": 50,
   "metadata": {},
   "outputs": [
    {
     "name": "stdout",
     "output_type": "stream",
     "text": [
      "saisir une case: d4\n",
      "[' ', '1', '2', '3', '4', '5', '6', '7', '8', '9', '10']\n",
      "['A', ' ', ' ', ' ', ' ', ' ', ' ', ' ', ' ', ' ', ' ']\n",
      "['B', ' ', ' ', ' ', ' ', ' ', ' ', ' ', ' ', ' ', ' ']\n",
      "['C', ' ', ' ', ' ', ' ', ' ', ' ', ' ', ' ', ' ', ' ']\n",
      "['D', ' ', ' ', ' ', 'X', ' ', ' ', ' ', ' ', ' ', ' ']\n",
      "['E', ' ', ' ', ' ', ' ', ' ', ' ', ' ', ' ', ' ', ' ']\n",
      "['F', ' ', ' ', ' ', ' ', ' ', ' ', ' ', ' ', ' ', ' ']\n",
      "['G', ' ', ' ', ' ', ' ', ' ', ' ', ' ', ' ', ' ', ' ']\n",
      "['H', ' ', ' ', ' ', ' ', ' ', ' ', ' ', ' ', ' ', ' ']\n",
      "['I', ' ', ' ', ' ', ' ', ' ', ' ', ' ', ' ', ' ', ' ']\n",
      "['J', ' ', ' ', ' ', ' ', ' ', ' ', ' ', ' ', ' ', ' ']\n"
     ]
    }
   ],
   "source": [
    "def extraire(coordonnees):\n",
    "    # à compléter\n",
    "    \n",
    "def modifier(grille):\n",
    "    # à compléter\n",
    "\n",
    "g = modifier(g)\n",
    "afficher(g)"
   ]
  }
 ],
 "metadata": {
  "kernelspec": {
   "display_name": "Python 3",
   "language": "python",
   "name": "python3"
  },
  "language_info": {
   "codemirror_mode": {
    "name": "ipython",
    "version": 3
   },
   "file_extension": ".py",
   "mimetype": "text/x-python",
   "name": "python",
   "nbconvert_exporter": "python",
   "pygments_lexer": "ipython3",
   "version": "3.8.6"
  }
 },
 "nbformat": 4,
 "nbformat_minor": 4
}
