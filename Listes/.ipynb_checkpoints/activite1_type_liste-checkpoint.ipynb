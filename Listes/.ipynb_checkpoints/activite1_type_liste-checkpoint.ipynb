{
 "cells": [
  {
   "cell_type": "markdown",
   "metadata": {},
   "source": [
    "## <div align = right> 2020-2021 </div>\n",
    "### <center> Premiere NSI - Les Listes </center>\n",
    "### <center> Activité 1: Le type de données 'liste'</center>\n",
    "---\n",
    "### Introduction\n",
    "Nous avons vu qu'un ordinateur gérait des valeurs et organisait leur stockage en mémoire. En programmation, il est possible d'exploiter cette capacité en utilisant des **variables**. Les variables se créent et s'appelent à l'aide d'un **nom**. La **valeur** stockée est alors accompagnée d'un **type** afin de prévoir sa transformation en binaire (voir ***les codages des données***).\n",
    "\n",
    "Jusqu'à maintenant, nous avions simplifié leur représentation en imaginant simplement une boîte avec une étiquette (*nom*) et un contenu (*valeur*) au milieu de plein d'autres boîtes similaires dans un espace de stockage (*mémoire de l'ordinateur*). Une variable simple ne pouvait alor stocker qu'une seule valeur...\n",
    "\n",
    "- **Exécuter les deux scripts ci-dessous et analyser quel(s) élément(s) de syntaxe permet(tent) de créer une variable de type `list`.**"
   ]
  },
  {
   "cell_type": "code",
   "execution_count": null,
   "metadata": {},
   "outputs": [],
   "source": [
    "ma_variable = 42\n",
    "print(ma_variable)\n",
    "print(type(ma_variable))"
   ]
  },
  {
   "cell_type": "code",
   "execution_count": null,
   "metadata": {},
   "outputs": [],
   "source": [
    "ma_variable = [42]\n",
    "print(ma_variable)\n",
    "print(type(ma_variable))"
   ]
  },
  {
   "cell_type": "markdown",
   "metadata": {},
   "source": [
    "- **Exécuter les scripts ci-dessous et analyser comment évolue le contenu de la variable** "
   ]
  },
  {
   "cell_type": "code",
   "execution_count": null,
   "metadata": {},
   "outputs": [],
   "source": [
    "ma_variable = [42]\n",
    "ma_variable.append(84)\n",
    "print(ma_variable)"
   ]
  },
  {
   "cell_type": "code",
   "execution_count": null,
   "metadata": {},
   "outputs": [],
   "source": [
    "ma_variable = [42,84,'orwell']\n",
    "ma_variable.remove(42)\n",
    "print(ma_variable)"
   ]
  },
  {
   "cell_type": "markdown",
   "metadata": {},
   "source": [
    "*Remarques: Une liste peut stocker des éléments de types différents.*  \n",
    "\n",
    "- **Si la liste complète est accessible à l'appel de son nom, chaque élément de la liste indexé par un indice. Cet indice est forécement un nombre entier. Interpréter le retour de chaque commande du script ci-dessous.**\n"
   ]
  },
  {
   "cell_type": "code",
   "execution_count": null,
   "metadata": {},
   "outputs": [],
   "source": [
    "ma_variable = [42,84,'orwell']\n",
    "print(ma_variable[0])\n",
    "print(ma_variable[1])\n",
    "print(ma_variable[2])\n",
    "print(ma_variable[3])"
   ]
  },
  {
   "cell_type": "markdown",
   "metadata": {},
   "source": [
    "- **Quel indice correspond au premier élément?**"
   ]
  },
  {
   "cell_type": "code",
   "execution_count": null,
   "metadata": {},
   "outputs": [],
   "source": [
    " "
   ]
  },
  {
   "cell_type": "markdown",
   "metadata": {},
   "source": [
    "- **Quel indice correspond au dernier élément?**"
   ]
  },
  {
   "cell_type": "code",
   "execution_count": null,
   "metadata": {},
   "outputs": [],
   "source": []
  },
  {
   "cell_type": "markdown",
   "metadata": {},
   "source": [
    "- **Que signifie le message suite à l'instruction `print(ma_variable[3])`?**"
   ]
  },
  {
   "cell_type": "code",
   "execution_count": null,
   "metadata": {},
   "outputs": [],
   "source": []
  },
  {
   "cell_type": "markdown",
   "metadata": {},
   "source": [
    "---\n",
    "\n",
    "A ce stade, nous savons que les indices placés entre crochets après le nom de la variable permet d'accéder aux valeurs. Il est aussi possible d'extraire un sous-ensemble d'éléments tiré de la liste. \n",
    "\n",
    "- **Interpréter les instructions ci-dessous et observer le comportement des indices sur le sous-ensemble obtenu:**"
   ]
  },
  {
   "cell_type": "code",
   "execution_count": null,
   "metadata": {},
   "outputs": [],
   "source": [
    "lettre = ['a','b','c','d','e','f','g','h','i','j']\n",
    "print(lettre[4:8])\n",
    "print(lettre[:8])\n",
    "print(lettre[4:])"
   ]
  },
  {
   "cell_type": "markdown",
   "metadata": {},
   "source": [
    "- **Quels indices correspondent à `[4:8]`?**"
   ]
  },
  {
   "cell_type": "code",
   "execution_count": null,
   "metadata": {},
   "outputs": [],
   "source": []
  },
  {
   "cell_type": "markdown",
   "metadata": {},
   "source": [
    "- **La borne inféreieure (4) est-elle inclusive ou exclusive?**"
   ]
  },
  {
   "cell_type": "code",
   "execution_count": null,
   "metadata": {},
   "outputs": [],
   "source": []
  },
  {
   "cell_type": "markdown",
   "metadata": {},
   "source": [
    "- **La borne inféreieure (8) est-elle inclusive ou exclusive?**"
   ]
  },
  {
   "cell_type": "code",
   "execution_count": null,
   "metadata": {},
   "outputs": [],
   "source": []
  },
  {
   "cell_type": "markdown",
   "metadata": {},
   "source": [
    "---\n",
    "\n",
    "***Quelques astuces sur les listes:***"
   ]
  },
  {
   "cell_type": "code",
   "execution_count": null,
   "metadata": {},
   "outputs": [],
   "source": [
    "# créer une liste vide\n",
    "ma_variable = []\n",
    "print('liste vide',ma_variable)\n",
    "\n",
    "# ajout\n",
    "ma_variable.append('le livre')\n",
    "print('ajout:',ma_variable)\n",
    "\n",
    "ma_liste = ['Georges','Orwell','84']\n",
    "\n",
    "# modification d'un élément\n",
    "ma_liste[2] = '1984'\n",
    "print('après modification:',liste)\n",
    "\n",
    "# somme de listes\n",
    "print(ma_variable + ma_liste)\n",
    "print(ma_liste + ma_variable)\n",
    "\n",
    "# obtenir le nombre d'éléments d'une liste\n",
    "print('longueur de ma_liste:',len(ma_liste))"
   ]
  },
  {
   "cell_type": "markdown",
   "metadata": {},
   "source": [
    "---\n",
    "### <center>  Exercices</center>\n",
    "#### 1.  Créer une liste contenant les 100 premiers entiers"
   ]
  },
  {
   "cell_type": "code",
   "execution_count": null,
   "metadata": {
    "scrolled": true
   },
   "outputs": [],
   "source": []
  },
  {
   "cell_type": "markdown",
   "metadata": {},
   "source": [
    "---\n",
    "#### 2.  Créer une liste contenant les 100 premiers entiers pairs"
   ]
  },
  {
   "cell_type": "code",
   "execution_count": null,
   "metadata": {},
   "outputs": [],
   "source": []
  },
  {
   "cell_type": "markdown",
   "metadata": {},
   "source": [
    "---\n",
    "### <center>  Pour aller plus loin</center>\n"
   ]
  },
  {
   "cell_type": "markdown",
   "metadata": {},
   "source": [
    "Nous avons vu qu'il était possible d'ajouter ou de supprimer des valeurs d'une liste. Les méthodes vu précédemment:\n",
    "\n",
    "- `append()` nous permet d'ajouter une valeur **en fin de liste**. Comment faire lorsque nous souhaitons ajouter une valeur positionnée autrement? **Rechercher des informations sur la méthode `insert()`**.\n",
    "\n",
    "\n",
    "#### 3. A partir du début de script proposé, créer une liste qui contient 10 entiers aléatoires en positionnant les derniers tirés en début de liste. "
   ]
  },
  {
   "cell_type": "code",
   "execution_count": null,
   "metadata": {},
   "outputs": [],
   "source": [
    "from random import randint\n"
   ]
  },
  {
   "cell_type": "markdown",
   "metadata": {},
   "source": [
    "- `remove()` nous permet de spécifier une valeur à supprimer mais comme cela se passe-t-il lorsque la valeur apparait plusieurs fois dans la liste ou lorsque nous souhaitons supprimer une valeur non pas par sa valeur mais par son indice? **Rechercher des informations sur la méthode `.pop()`**.\n",
    "\n",
    "#### 4. A partir du début de script proposé, créer un script qui ôte une valeur aléatoire de la liste d'élèves."
   ]
  },
  {
   "cell_type": "code",
   "execution_count": null,
   "metadata": {},
   "outputs": [],
   "source": [
    "from random import randint\n",
    "liste_eleves = ['Turing', 'Boole', 'Von Neumann', 'Engelbert','Hamilton']\n",
    "\n",
    "\n",
    "\n",
    "\n",
    "\n",
    "print(liste_eleves)"
   ]
  }
 ],
 "metadata": {
  "kernelspec": {
   "display_name": "Python 3",
   "language": "python",
   "name": "python3"
  },
  "language_info": {
   "codemirror_mode": {
    "name": "ipython",
    "version": 3
   },
   "file_extension": ".py",
   "mimetype": "text/x-python",
   "name": "python",
   "nbconvert_exporter": "python",
   "pygments_lexer": "ipython3",
   "version": "3.8.6"
  }
 },
 "nbformat": 4,
 "nbformat_minor": 4
}
