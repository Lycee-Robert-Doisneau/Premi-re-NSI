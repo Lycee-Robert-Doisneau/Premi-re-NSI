{
 "cells": [
  {
   "cell_type": "markdown",
   "metadata": {},
   "source": [
    "## <div align = right> 2020-2021 </div>\n",
    "### <center> Premiere NSI - Les Listes </center>\n",
    "### <center> Activité 3: La compréhension de listes</center>\n",
    "---\n",
    "### Analyse\n",
    "La compréhension de liste est un terme employé pour désigner une **syntaxe** particulière dans Python visant à générer des listes de manière dynamique. Cette notion va une nouvelle fois faire appel à la structure **itérative** dans un formalisme légèrement différent.\n",
    "\n",
    "- **Exécuter les scripts ci-dessous et analyser les mécanismes de création de chaque instructions:**"
   ]
  },
  {
   "cell_type": "code",
   "execution_count": 3,
   "metadata": {
    "scrolled": true
   },
   "outputs": [
    {
     "name": "stdout",
     "output_type": "stream",
     "text": [
      "[0, 1, 2, 3, 4, 5, 6, 7, 8, 9]\n"
     ]
    }
   ],
   "source": [
    "ma_liste = [n for n in range(10)]\n",
    "print(ma_liste)"
   ]
  },
  {
   "cell_type": "code",
   "execution_count": 4,
   "metadata": {},
   "outputs": [
    {
     "name": "stdout",
     "output_type": "stream",
     "text": [
      "[0, 2, 4, 6, 8, 10, 12, 14, 16, 18]\n"
     ]
    }
   ],
   "source": [
    "ma_liste = [2*n for n in range(10)]\n",
    "print(ma_liste)"
   ]
  },
  {
   "cell_type": "code",
   "execution_count": 5,
   "metadata": {},
   "outputs": [
    {
     "name": "stdout",
     "output_type": "stream",
     "text": [
      "[1, 3, 5, 7, 9, 11, 13, 15, 17, 19]\n"
     ]
    }
   ],
   "source": [
    "ma_liste = [2*n + 1 for n in range(10)]\n",
    "print(ma_liste)"
   ]
  },
  {
   "cell_type": "code",
   "execution_count": 6,
   "metadata": {},
   "outputs": [
    {
     "name": "stdout",
     "output_type": "stream",
     "text": [
      "[0, 2, 4, 6, 8]\n"
     ]
    }
   ],
   "source": [
    "ma_liste = [n for n in range(10) if n % 2 == 0]\n",
    "print(ma_liste)"
   ]
  },
  {
   "cell_type": "code",
   "execution_count": 7,
   "metadata": {},
   "outputs": [
    {
     "name": "stdout",
     "output_type": "stream",
     "text": [
      "[1, 3, 5, 7, 9]\n"
     ]
    }
   ],
   "source": [
    "ma_liste = [n for n in range(10) if n % 2 != 0]\n",
    "print(ma_liste)"
   ]
  },
  {
   "cell_type": "code",
   "execution_count": 8,
   "metadata": {},
   "outputs": [
    {
     "name": "stdout",
     "output_type": "stream",
     "text": [
      "[29, 95, 89, 48, 16, 22, 85, 20, 28, 60]\n"
     ]
    }
   ],
   "source": [
    "from random import randint\n",
    "ma_liste = [randint(0,100) for n in range(10)]\n",
    "print(ma_liste)"
   ]
  },
  {
   "cell_type": "code",
   "execution_count": 9,
   "metadata": {
    "scrolled": true
   },
   "outputs": [
    {
     "name": "stdout",
     "output_type": "stream",
     "text": [
      "[' ', ' ', ' ', ' ', ' ']\n",
      "[' ', ' ', ' ', ' ', ' ']\n",
      "[' ', ' ', ' ', ' ', ' ']\n"
     ]
    }
   ],
   "source": [
    "mon_tab = [5 * [' '] for n in range(3)]\n",
    "for ligne in mon_tab:\n",
    "    print(ligne)"
   ]
  },
  {
   "cell_type": "markdown",
   "metadata": {},
   "source": [
    "---\n",
    "### <center>Synthèse</center>\n",
    "\n",
    "Un générateur réalisé par compréhension de liste se compose de 3 parties:\n",
    "- Une partie **traitement** qui définit comme est générée la valeur à placer\n",
    "- Une partie **itération** qui précise le nombre deu fois où le traitement se répète\n",
    "- (*option*) Une partie **sélection** qui spécifie une condition à l'ajout de la valeur dans la liste générée.\n",
    "\n",
    "`[ <traitement> for <itération> if <selection> ]`"
   ]
  },
  {
   "cell_type": "markdown",
   "metadata": {},
   "source": [
    "---\n",
    "### <center>  Exercices</center>\n",
    "#### 1.  Créer une fonction qui renvoie un tableau à deux dimensions placées en argument (en utilisant la compréhension de liste)."
   ]
  },
  {
   "cell_type": "code",
   "execution_count": 10,
   "metadata": {
    "scrolled": true
   },
   "outputs": [
    {
     "name": "stdout",
     "output_type": "stream",
     "text": [
      "['.', '.', '.']\n",
      "['.', '.', '.']\n",
      "['.', '.', '.']\n",
      "['.', '.', '.']\n",
      "['.', '.', '.']\n"
     ]
    }
   ],
   "source": [
    "def generer_tab(ligne,colonne):\n",
    "    # à compléter\n",
    "\n",
    "t = generer_tab(5,3)\n",
    "\n",
    "for ligne in t:\n",
    "    print(ligne)"
   ]
  },
  {
   "cell_type": "markdown",
   "metadata": {},
   "source": [
    "---\n",
    "#### 2.  Créer une liste accumulant tous les entiers ayant au moins un 7 entre 0 et 121."
   ]
  },
  {
   "cell_type": "code",
   "execution_count": 11,
   "metadata": {
    "scrolled": false
   },
   "outputs": [
    {
     "name": "stdout",
     "output_type": "stream",
     "text": [
      "[7, 17, 27, 37, 47, 57, 67, 70, 71, 72, 73, 74, 75, 76, 77, 78, 79, 87, 97, 107, 117]\n"
     ]
    }
   ],
   "source": [
    "liste_entiers = # à compléter\n",
    "print(liste_entiers)"
   ]
  },
  {
   "cell_type": "markdown",
   "metadata": {},
   "source": [
    "---\n",
    "#### 3.  Créer une liste accumulant tous les entiers ayant un chiffre des dizaines supérieur au chiffre des unités entre 10 et 100."
   ]
  },
  {
   "cell_type": "code",
   "execution_count": 16,
   "metadata": {
    "scrolled": false
   },
   "outputs": [
    {
     "name": "stdout",
     "output_type": "stream",
     "text": [
      "[10, 20, 21, 30, 31, 32, 40, 41, 42, 43, 50, 51, 52, 53, 54, 60, 61, 62, 63, 64, 65, 70, 71, 72, 73, 74, 75, 76, 80, 81, 82, 83, 84, 85, 86, 87, 90, 91, 92, 93, 94, 95, 96, 97, 98]\n"
     ]
    }
   ],
   "source": [
    "liste_entiers = # à compléter\n",
    "print(liste_entiers)"
   ]
  },
  {
   "cell_type": "markdown",
   "metadata": {},
   "source": [
    "---\n",
    "#### 4.  Créer une liste accumulant tous les entiers palindromes à 3 chiffres. (Un palindrome est lu de la même manière de gauche à droite ou de droite à gauche)."
   ]
  },
  {
   "cell_type": "code",
   "execution_count": 17,
   "metadata": {
    "scrolled": false
   },
   "outputs": [
    {
     "name": "stdout",
     "output_type": "stream",
     "text": [
      "[101, 111, 121, 131, 141, 151, 161, 171, 181, 191, 202, 212, 222, 232, 242, 252, 262, 272, 282, 292, 303, 313, 323, 333, 343, 353, 363, 373, 383, 393, 404, 414, 424, 434, 444, 454, 464, 474, 484, 494, 505, 515, 525, 535, 545, 555, 565, 575, 585, 595, 606, 616, 626, 636, 646, 656, 666, 676, 686, 696, 707, 717, 727, 737, 747, 757, 767, 777, 787, 797, 808, 818, 828, 838, 848, 858, 868, 878, 888, 898, 909, 919, 929, 939, 949, 959, 969, 979, 989, 999]\n"
     ]
    }
   ],
   "source": [
    "liste_entiers = # à compléter\n",
    "print(liste_entiers)"
   ]
  },
  {
   "cell_type": "markdown",
   "metadata": {},
   "source": [
    "---\n",
    "### <center>Pour aller plus loin</center>\n",
    "#### 5.  Créer une table de multiplication (en utilisant la compréhension de liste)."
   ]
  },
  {
   "cell_type": "code",
   "execution_count": 2,
   "metadata": {
    "scrolled": true
   },
   "outputs": [
    {
     "name": "stdout",
     "output_type": "stream",
     "text": [
      "['00', '00', '00', '00', '00', '00', '00', '00', '00', '00']\n",
      "['00', '01', '02', '03', '04', '05', '06', '07', '08', '09']\n",
      "['00', '02', '04', '06', '08', '10', '12', '14', '16', '18']\n",
      "['00', '03', '06', '09', '12', '15', '18', '21', '24', '27']\n",
      "['00', '04', '08', '12', '16', '20', '24', '28', '32', '36']\n",
      "['00', '05', '10', '15', '20', '25', '30', '35', '40', '45']\n",
      "['00', '06', '12', '18', '24', '30', '36', '42', '48', '54']\n",
      "['00', '07', '14', '21', '28', '35', '42', '49', '56', '63']\n",
      "['00', '08', '16', '24', '32', '40', '48', '56', '64', '72']\n",
      "['00', '09', '18', '27', '36', '45', '54', '63', '72', '81']\n"
     ]
    }
   ],
   "source": [
    "table = # à compléter\n",
    "\n",
    "for ligne in table:\n",
    "    print(ligne)"
   ]
  },
  {
   "cell_type": "markdown",
   "metadata": {},
   "source": [
    "---\n",
    "#### 6.  Nous utilisons souvent la fonction `range()` car les générateurs sont fréquents pour des valeurs numériques mais il est toujours possibles d'itérer sur les éléments d'une liste. A partir d'une liste de valeurs et d'une liste de couleurs, créer un jeu de cartes par compréhension de liste."
   ]
  },
  {
   "cell_type": "code",
   "execution_count": 6,
   "metadata": {},
   "outputs": [
    {
     "name": "stdout",
     "output_type": "stream",
     "text": [
      "[['7 de Coeur', '8 de Coeur', '9 de Coeur', '10 de Coeur', 'Valet de Coeur', 'Dame de Coeur', 'Roi de Coeur', 'As de Coeur'], ['7 de Carreau', '8 de Carreau', '9 de Carreau', '10 de Carreau', 'Valet de Carreau', 'Dame de Carreau', 'Roi de Carreau', 'As de Carreau'], ['7 de Trèfle', '8 de Trèfle', '9 de Trèfle', '10 de Trèfle', 'Valet de Trèfle', 'Dame de Trèfle', 'Roi de Trèfle', 'As de Trèfle'], ['7 de Pique', '8 de Pique', '9 de Pique', '10 de Pique', 'Valet de Pique', 'Dame de Pique', 'Roi de Pique', 'As de Pique']]\n"
     ]
    }
   ],
   "source": [
    "valeurs = ['7','8','9','10','Valet','Dame','Roi','As']\n",
    "couleurs = [' de Coeur', ' de Carreau', ' de Trèfle', ' de Pique']\n",
    "\n",
    "jeu = # à compléter\n",
    "\n",
    "print(jeu)"
   ]
  }
 ],
 "metadata": {
  "kernelspec": {
   "display_name": "Python 3",
   "language": "python",
   "name": "python3"
  },
  "language_info": {
   "codemirror_mode": {
    "name": "ipython",
    "version": 3
   },
   "file_extension": ".py",
   "mimetype": "text/x-python",
   "name": "python",
   "nbconvert_exporter": "python",
   "pygments_lexer": "ipython3",
   "version": "3.8.6"
  }
 },
 "nbformat": 4,
 "nbformat_minor": 4
}
